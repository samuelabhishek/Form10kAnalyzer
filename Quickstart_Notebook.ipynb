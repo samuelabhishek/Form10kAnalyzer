{
 "metadata": {
  "language_info": {
   "codemirror_mode": {
    "name": "ipython",
    "version": 3
   },
   "file_extension": ".py",
   "mimetype": "text/x-python",
   "name": "python",
   "nbconvert_exporter": "python",
   "pygments_lexer": "ipython3",
   "version": "3.9.5"
  },
  "orig_nbformat": 2,
  "kernelspec": {
   "name": "python395jvsc74a57bd09023dabb6615afe19dab48841c6bbcfa5de5cb39a9c30d712998d8f94920de2b",
   "display_name": "Python 3.9.5 64-bit ('marketintelligence': conda)"
  }
 },
 "nbformat": 4,
 "nbformat_minor": 2,
 "cells": [
  {
   "source": [
    "# Market Intelligence"
   ],
   "cell_type": "markdown",
   "metadata": {}
  },
  {
   "cell_type": "code",
   "execution_count": 1,
   "metadata": {},
   "outputs": [
    {
     "output_type": "stream",
     "name": "stdout",
     "text": [
      "Importing Dependancies\n",
      "Completed Imports\n"
     ]
    }
   ],
   "source": [
    "from src.Form10k import Form10kAnalyzer, Form10kExtractor, clean_text\n",
    "import streamlit as st\n",
    "import pandas as pd"
   ]
  },
  {
   "cell_type": "code",
   "execution_count": 2,
   "metadata": {},
   "outputs": [
    {
     "output_type": "stream",
     "name": "stdout",
     "text": [
      "Extracting Report\n",
      "Extracting Section\n",
      "sections extracted!\n",
      "Unable to indentify individual headers. Extracting each paragraph as a subsection instead\n",
      "subsections extracted!\n",
      "Entities extracted!\n",
      "Sentiment extracted\n"
     ]
    }
   ],
   "source": [
    "section = 'Risk Factors'\n",
    "\n",
    "myform = Form10kExtractor(download_path = r\"documentRepo\", company = \"Apple Inc.\", section = section ,is_ticker = False)\n",
    "myformanalysis = Form10kAnalyzer(myform)"
   ]
  },
  {
   "cell_type": "code",
   "execution_count": 3,
   "metadata": {},
   "outputs": [],
   "source": [
    "subsection_sentiment_df = pd.DataFrame(zip(myform.subsections_, myformanalysis.subsections_sentiment_polarity_, myformanalysis.subsections_sentiment_subjectivity_), \n",
    "columns = ['Risk Factor', 'Sentiment - Polarity', 'Sentimeny - Subjectivity'])"
   ]
  },
  {
   "cell_type": "code",
   "execution_count": 4,
   "metadata": {},
   "outputs": [],
   "source": [
    "entities_label_df = pd.DataFrame(zip(myformanalysis.entities_text_,myformanalysis.entities_label_), columns=['Entity','Label'])\n",
    "entities_label_count_df = pd.DataFrame(entities_label_df.value_counts(), columns=['# of Occurances']).reset_index()"
   ]
  }
 ]
}