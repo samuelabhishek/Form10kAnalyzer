{
 "cells": [
  {
   "cell_type": "markdown",
   "metadata": {},
   "source": [
    "# Market Intelligence"
   ]
  },
  {
   "cell_type": "code",
   "execution_count": 16,
   "metadata": {},
   "outputs": [],
   "source": [
    "from src import form10k\n",
    "import streamlit as st\n",
    "import pandas as pd"
   ]
  },
  {
   "cell_type": "code",
   "execution_count": 17,
   "metadata": {},
   "outputs": [
    {
     "name": "stdout",
     "output_type": "stream",
     "text": [
      "Extracting Report\n",
      "Extracting Sections\n",
      "sections extracted!\n",
      "Extracting Sub-Sections\n",
      "Unable to indentify individual headers. Extracting each paragraph as a subsection instead\n",
      "subsections extracted!\n"
     ]
    }
   ],
   "source": [
    "section = \"Risk Factors\"\n",
    "\n",
    "myform = form10k.Form10kExtractor(company = \"Apple Inc.\", section = section, download_path=r'documentRepo')\n",
    "\n",
    "myformanalysis = Form10kAnalyzer(myform)"
   ]
  }
 ],
 "metadata": {
  "interpreter": {
   "hash": "b79ce667d4fde8082be1a414976ea26e33aa12733192192e0b1ca0e6a999332b"
  },
  "kernelspec": {
   "display_name": "Python 3.9.5 64-bit ('marketintelligence': conda)",
   "name": "python3"
  },
  "language_info": {
   "codemirror_mode": {
    "name": "ipython",
    "version": 3
   },
   "file_extension": ".py",
   "mimetype": "text/x-python",
   "name": "python",
   "nbconvert_exporter": "python",
   "pygments_lexer": "ipython3",
   "version": "3.9.5"
  },
  "orig_nbformat": 2
 },
 "nbformat": 4,
 "nbformat_minor": 2
}
